{
 "cells": [
  {
   "cell_type": "code",
   "execution_count": 40,
   "id": "a4b9db7b",
   "metadata": {},
   "outputs": [],
   "source": [
    "from pulp import *\n",
    "import matplotlib.pyplot as plt\n",
    "import numpy as np\n",
    "from time import time"
   ]
  },
  {
   "cell_type": "code",
   "execution_count": 41,
   "id": "947ab9e1",
   "metadata": {},
   "outputs": [],
   "source": [
    "def add_enough_workers_constraint(prob: pulp.LpProblem, p_vars: list, num_employees: int, num_days: int, num_shifts_per_day: int):\n",
    "    #for each day...\n",
    "    for d in range(num_days):\n",
    "        #make sure that enough people are working\n",
    "        prob += sum([p_vars[i][d] for i in range(num_employees)]) == num_shifts_per_day"
   ]
  },
  {
   "cell_type": "code",
   "execution_count": 42,
   "id": "2bb7faf4",
   "metadata": {},
   "outputs": [],
   "source": [
    "def add_equal_work_constraint(prob: pulp.LpProblem, p_vars: list, num_employees: int, num_days: int, num_shifts_per_day: int):\n",
    "    #get the upper and lower limits of number of days each employee will work\n",
    "    lower_days_worked = int(num_shifts_per_day*num_days/num_employees)\n",
    "    upper_days_worked = lower_days_worked + 1\n",
    "    \n",
    "    #for each employee...\n",
    "    for n in range(num_employees):\n",
    "        #make sure that they are working AT MOST upper_days_worked\n",
    "        prob += sum(p_vars[n]) <= upper_days_worked\n",
    "        \n",
    "        #make sure that they are working AT LEAST lower_days_worked\n",
    "        prob += sum(p_vars[n]) >= lower_days_worked"
   ]
  },
  {
   "cell_type": "code",
   "execution_count": 44,
   "id": "1a1e4353",
   "metadata": {},
   "outputs": [],
   "source": [
    "def add_time_off_constraint(prob: pulp.LpProblem, p_vars: list, time_off_requests: list, num_employees: int, num_days: int):\n",
    "    #for each time off request...\n",
    "    for employee, day in time_off_requests:\n",
    "        #add constraint that this person will not work on this day\n",
    "        prob += p_vars[employee][day] == 0"
   ]
  },
  {
   "cell_type": "code",
   "execution_count": 45,
   "id": "090bae05",
   "metadata": {},
   "outputs": [],
   "source": [
    "def get_number_matching_shifts(prob: pulp.LpProblem, p_vars: list, shift_preferences: list, num_employees: int, num_days: int):\n",
    "    #create initial preference list, all 0\n",
    "    preference_list = [0 for _ in range(num_employees*num_days)]\n",
    "    \n",
    "    #for each shift preference...\n",
    "    obj = 0\n",
    "    for employee, day in shift_preferences:\n",
    "        #add this to optimization problem\n",
    "        obj += p_vars[employee][day]\n",
    "    prob += obj"
   ]
  },
  {
   "cell_type": "code",
   "execution_count": 46,
   "id": "7973fae6",
   "metadata": {},
   "outputs": [],
   "source": [
    "def get_shifts(num_days: int, num_employees: int, num_shifts_per_day: int, time_off_requests: list, shift_preferences: list):\n",
    "    #init problem and define all vars\n",
    "    prob = LpProblem(\"shifts\", LpMaximize)\n",
    "    p_vars = [[] for _ in range(num_employees)]\n",
    "    leading_zeros_employees = '0'*int(np.log10(num_employees-1))\n",
    "    leading_zeros_days = '0'*int(np.log10(num_days-1))\n",
    "    for n in range(num_employees):\n",
    "        for d in range(num_days):\n",
    "            var_name = f'P_{(leading_zeros_employees+str(n))[-len(leading_zeros_employees)-1:]}_{(leading_zeros_days+str(d))[-len(leading_zeros_days)-1:]}'\n",
    "            v = LpVariable(var_name, 0, 1, LpInteger)\n",
    "            p_vars[n].append(v)\n",
    "            \n",
    "    get_number_matching_shifts(prob, p_vars, shift_preferences, num_employees, num_days)\n",
    "    \n",
    "    add_enough_workers_constraint(prob, p_vars, num_employees, num_days, num_shifts_per_day)\n",
    "    \n",
    "    add_equal_work_constraint(prob, p_vars, num_employees, num_days, num_shifts_per_day)\n",
    "    \n",
    "    add_time_off_constraint(prob, p_vars, time_off_requests, num_employees, num_days)\n",
    "    \n",
    "    start = time()\n",
    "    status = prob.solve()\n",
    "    end = time()\n",
    "    seconds = end - start\n",
    "    print('Status:', 'success' if status==1 else 'failure')\n",
    "    print('Seconds:' if seconds > 1 else 'Milliseconds:', round(seconds,2) if seconds > 1 else int(seconds*1000))\n",
    "    \n",
    "    shifts = np.array([int(v.varValue) for v in prob.variables()]).reshape(num_employees, num_days)\n",
    "\n",
    "    plt.figure()\n",
    "    plt.figure(figsize=(num_employees*1.5, num_days*1.5))\n",
    "    im = plt.imshow(shifts, aspect='equal', cmap='gray')\n",
    "    ax = plt.gca()\n",
    "\n",
    "    ax.set_xticks(np.arange(0, num_days, 1))\n",
    "    ax.set_yticks(np.arange(0, num_employees, 1))\n",
    "\n",
    "    # Labels for major ticks\n",
    "    ax.set_xticklabels([f\"D{i}\" for i in range(1,num_days+1)], fontsize=16)\n",
    "    ax.set_yticklabels([f\"E{i}\" for i in range(1,num_employees+1)], fontsize=16)\n",
    "\n",
    "    # Minor ticks\n",
    "    ax.set_xticks(np.arange(-.5, num_days, 1), minor=True)\n",
    "    ax.set_yticks(np.arange(-.5, num_employees, 1), minor=True)\n",
    "\n",
    "    # Gridlines based on minor ticks\n",
    "    ax.grid(which='minor', color='gray', linestyle='-', linewidth=2)\n",
    "    \n",
    "    num_prefs_matched = int(prob.objective.value())\n",
    "    plt.title(f'{num_prefs_matched}/{len(shift_preferences)} Preferences Matched', fontsize=25)\n",
    "    \n",
    "    print('===============================')\n",
    "    for i, time_off_request in enumerate(time_off_requests):\n",
    "        print(f\"E{time_off_request[0]+1} cannot work on D{time_off_request[1]+1}\")\n",
    "    \n",
    "    print('===============================')\n",
    "    for i, shift_pref in enumerate(shift_preferences):\n",
    "        print(f\"E{shift_pref[0]+1} prefers working on D{shift_pref[1]+1}\")\n",
    "    print('===============================')\n",
    "        \n",
    "    plt.show()\n",
    "    \n",
    "    return prob, shifts"
   ]
  },
  {
   "cell_type": "code",
   "execution_count": 47,
   "id": "7c06b384",
   "metadata": {},
   "outputs": [],
   "source": [
    "#play around with these\n",
    "num_days = 7\n",
    "num_employees = 5\n",
    "num_shifts_per_day = 2\n",
    "\n",
    "time_off_requests = [\n",
    "    [0,0],\n",
    "    [0,1],\n",
    "    [2,0],\n",
    "    [3,0],\n",
    "    [4,5]\n",
    "]\n",
    "\n",
    "shift_preferences = [\n",
    "    [0,2],\n",
    "    [0,4],\n",
    "    [1,4],\n",
    "    [2,1],\n",
    "    [4,0] \n",
    "]"
   ]
  },
  {
   "cell_type": "code",
   "execution_count": 48,
   "id": "18913d33",
   "metadata": {
    "scrolled": false
   },
   "outputs": [
    {
     "name": "stdout",
     "output_type": "stream",
     "text": [
      "Welcome to the CBC MILP Solver \n",
      "Version: 2.10.3 \n",
      "Build Date: Dec 15 2019 \n",
      "\n",
      "command line - /Library/Frameworks/Python.framework/Versions/3.9/lib/python3.9/site-packages/pulp/apis/../solverdir/cbc/osx/64/cbc /var/folders/7q/rpkqc9bn44zcj9yyxf_qhb3c0000gn/T/9f142b810c904f338343e165a1bc99fa-pulp.mps max timeMode elapsed branch printingOptions all solution /var/folders/7q/rpkqc9bn44zcj9yyxf_qhb3c0000gn/T/9f142b810c904f338343e165a1bc99fa-pulp.sol (default strategy 1)\n",
      "At line 2 NAME          MODEL\n",
      "At line 3 ROWS\n",
      "At line 27 COLUMNS\n",
      "At line 213 RHS\n",
      "At line 236 BOUNDS\n",
      "At line 272 ENDATA\n",
      "Problem MODEL has 22 rows, 35 columns and 110 elements\n",
      "Coin0008I MODEL read with 0 errors\n",
      "Option for timeMode changed from cpu to elapsed\n",
      "Continuous objective value is 5 - 0.00 seconds\n",
      "Cgl0002I 5 variables fixed\n",
      "Cgl0004I processed model has 11 rows, 28 columns (28 integer (28 of which binary)) and 56 elements\n",
      "Cutoff increment increased from 1e-05 to 0.9999\n",
      "Cbc0038I Initial state - 0 integers unsatisfied sum - 0\n",
      "Cbc0038I Solution found of -5\n",
      "Cbc0038I Before mini branch and bound, 28 integers at bound fixed and 0 continuous\n",
      "Cbc0038I Mini branch and bound did not improve solution (0.00 seconds)\n",
      "Cbc0038I After 0.00 seconds - Feasibility pump exiting with objective of -5 - took 0.00 seconds\n",
      "Cbc0012I Integer solution of -5 found by feasibility pump after 0 iterations and 0 nodes (0.00 seconds)\n",
      "Cbc0001I Search completed - best objective -5, took 0 iterations and 0 nodes (0.00 seconds)\n",
      "Cbc0035I Maximum depth 0, 0 variables fixed on reduced cost\n",
      "Cuts at root node changed objective from -5 to -5\n",
      "Probing was tried 0 times and created 0 cuts of which 0 were active after adding rounds of cuts (0.000 seconds)\n",
      "Gomory was tried 0 times and created 0 cuts of which 0 were active after adding rounds of cuts (0.000 seconds)\n",
      "Knapsack was tried 0 times and created 0 cuts of which 0 were active after adding rounds of cuts (0.000 seconds)\n",
      "Clique was tried 0 times and created 0 cuts of which 0 were active after adding rounds of cuts (0.000 seconds)\n",
      "MixedIntegerRounding2 was tried 0 times and created 0 cuts of which 0 were active after adding rounds of cuts (0.000 seconds)\n",
      "FlowCover was tried 0 times and created 0 cuts of which 0 were active after adding rounds of cuts (0.000 seconds)\n",
      "TwoMirCuts was tried 0 times and created 0 cuts of which 0 were active after adding rounds of cuts (0.000 seconds)\n",
      "ZeroHalf was tried 0 times and created 0 cuts of which 0 were active after adding rounds of cuts (0.000 seconds)\n",
      "\n",
      "Result - Optimal solution found\n",
      "\n",
      "Objective value:                5.00000000\n",
      "Enumerated nodes:               0\n",
      "Total iterations:               0\n",
      "Time (CPU seconds):             0.00\n",
      "Time (Wallclock seconds):       0.00\n",
      "\n",
      "Option for printingOptions changed from normal to all\n",
      "Total time (CPU seconds):       0.00   (Wallclock seconds):       0.01\n",
      "\n",
      "Status: success\n",
      "Milliseconds: 30\n",
      "===============================\n",
      "E1 cannot work on D1\n",
      "E1 cannot work on D2\n",
      "E3 cannot work on D1\n",
      "E4 cannot work on D1\n",
      "E5 cannot work on D6\n",
      "===============================\n",
      "E1 prefers working on D3\n",
      "E1 prefers working on D5\n",
      "E2 prefers working on D5\n",
      "E3 prefers working on D2\n",
      "E5 prefers working on D1\n",
      "===============================\n"
     ]
    },
    {
     "data": {
      "text/plain": [
       "<Figure size 432x288 with 0 Axes>"
      ]
     },
     "metadata": {},
     "output_type": "display_data"
    },
    {
     "data": {
      "image/png": "[encoded data removed]",
      "text/plain": [
       "<Figure size 540x756 with 1 Axes>"
      ]
     },
     "metadata": {
      "needs_background": "light"
     },
     "output_type": "display_data"
    }
   ],
   "source": [
    "prob, shifts = get_shifts(num_days, num_employees, num_shifts_per_day, time_off_requests, shift_preferences)"
   ]
  },
  {
   "cell_type": "code",
   "execution_count": null,
   "id": "7a6191e7",
   "metadata": {},
   "outputs": [],
   "source": []
  }
 ],
 "metadata": {
  "kernelspec": {
   "display_name": "Python 3 (ipykernel)",
   "language": "python",
   "name": "python3"
  },
  "language_info": {
   "codemirror_mode": {
    "name": "ipython",
    "version": 3
   },
   "file_extension": ".py",
   "mimetype": "text/x-python",
   "name": "python",
   "nbconvert_exporter": "python",
   "pygments_lexer": "ipython3",
   "version": "3.8.9"
  }
 },
 "nbformat": 4,
 "nbformat_minor": 5
}
