{
 "cells": [
  {
   "cell_type": "markdown",
   "id": "7b1d296c-5eb2-455e-ac25-bd9b446a85b0",
   "metadata": {},
   "source": [
    "# Sympy Tutorial\n",
    "\n",
    "[Video Link](https://www.youtube.com/watch?v=1yBPEPhq54M&t=334s)\n",
    "\n",
    "Sympy is an easy way to handle symbolic equations. Similar to wolfram alpha, it will expand, solve, minimise, maximise etc function."
   ]
  },
  {
   "cell_type": "code",
   "execution_count": 81,
   "id": "3b5d0a97-ac01-406b-95a9-5163f3aa91fd",
   "metadata": {},
   "outputs": [],
   "source": [
    "import sympy as smp\n",
    "import numpy as np\n",
    "import matplotlib.pyplot as plt"
   ]
  },
  {
   "cell_type": "markdown",
   "id": "f7df4ead-791e-4aa1-a6b3-6a9dd1558286",
   "metadata": {},
   "source": [
    "### Setting up a function"
   ]
  },
  {
   "cell_type": "code",
   "execution_count": 62,
   "id": "e09ea105-9aea-4bd7-ace5-7995f77f1a45",
   "metadata": {},
   "outputs": [],
   "source": [
    "mu, sig, x = smp.symbols('mu sigma x')"
   ]
  },
  {
   "cell_type": "code",
   "execution_count": 63,
   "id": "f8152227-0892-4102-9eb2-6180824f2ac3",
   "metadata": {},
   "outputs": [],
   "source": [
    "denom = 1/smp.sqrt(2*smp.pi * sig**2)\n",
    "ex = smp.exp(smp.Rational(-.5)*(x-mu)**2/(sig**2))\n",
    "nd = denom*ex"
   ]
  },
  {
   "cell_type": "code",
   "execution_count": 64,
   "id": "21ae27b6-2375-461e-adcf-7d87429cece2",
   "metadata": {},
   "outputs": [
    {
     "data": {
      "text/latex": [
       "$\\displaystyle \\frac{\\sqrt{2} e^{- \\frac{\\left(- \\mu + x\\right)^{2}}{2 \\sigma^{2}}}}{2 \\sqrt{\\pi} \\sqrt{\\sigma^{2}}}$"
      ],
      "text/plain": [
       "sqrt(2)*exp(-(-mu + x)**2/(2*sigma**2))/(2*sqrt(pi)*sqrt(sigma**2))"
      ]
     },
     "execution_count": 64,
     "metadata": {},
     "output_type": "execute_result"
    }
   ],
   "source": [
    "nd"
   ]
  },
  {
   "cell_type": "markdown",
   "id": "647bc89d-e853-43e3-89b4-10dd219bc852",
   "metadata": {},
   "source": [
    "### Factoring and Expaning of polynomials\n",
    "#### Example 1"
   ]
  },
  {
   "cell_type": "code",
   "execution_count": 46,
   "id": "fb407c61-fde5-4c4f-b8f5-fc361e97a4b6",
   "metadata": {},
   "outputs": [
    {
     "data": {
      "text/latex": [
       "$\\displaystyle \\left(2 x + 51\\right)^{2}$"
      ],
      "text/plain": [
       "(2*x + 51)**2"
      ]
     },
     "execution_count": 46,
     "metadata": {},
     "output_type": "execute_result"
    }
   ],
   "source": [
    "smp.factor(4*x**2 + 204*x + 2601)"
   ]
  },
  {
   "cell_type": "code",
   "execution_count": 45,
   "id": "9112a969-9ea1-4a6a-81a8-f8a152e802e2",
   "metadata": {},
   "outputs": [
    {
     "data": {
      "text/latex": [
       "$\\displaystyle 4 x^{2} + 204 x + 2601$"
      ],
      "text/plain": [
       "4*x**2 + 204*x + 2601"
      ]
     },
     "execution_count": 45,
     "metadata": {},
     "output_type": "execute_result"
    }
   ],
   "source": [
    "smp.expand((2*x + 51)**2)"
   ]
  },
  {
   "cell_type": "markdown",
   "id": "18d2ff9b-2895-4108-b098-bc3467f8cac2",
   "metadata": {},
   "source": [
    "#### Example 2"
   ]
  },
  {
   "cell_type": "code",
   "execution_count": 55,
   "id": "3305eb35-a3fa-4561-ad6b-82041db521e4",
   "metadata": {},
   "outputs": [
    {
     "data": {
      "text/latex": [
       "$\\displaystyle 16 x^{7} - 4 x^{6} + 48 x^{4} - 12 x^{3} + 36 x - 9$"
      ],
      "text/plain": [
       "16*x**7 - 4*x**6 + 48*x**4 - 12*x**3 + 36*x - 9"
      ]
     },
     "execution_count": 55,
     "metadata": {},
     "output_type": "execute_result"
    }
   ],
   "source": [
    "smp.expand( (2*x**3 + 3)**2*(4*x-1))"
   ]
  },
  {
   "cell_type": "code",
   "execution_count": 57,
   "id": "fa49492b-36ed-45eb-bf27-5e2b34d08c32",
   "metadata": {},
   "outputs": [
    {
     "data": {
      "text/latex": [
       "$\\displaystyle \\left(4 x - 1\\right) \\left(2 x^{3} + 3\\right)^{2}$"
      ],
      "text/plain": [
       "(4*x - 1)*(2*x**3 + 3)**2"
      ]
     },
     "execution_count": 57,
     "metadata": {},
     "output_type": "execute_result"
    }
   ],
   "source": [
    "f = smp.factor( 16*x**7 - 4*x**6 + 48*x**4 - 12*x**3 + 36*x - 9)\n",
    "f"
   ]
  },
  {
   "cell_type": "code",
   "execution_count": 58,
   "id": "3abdc2c4-d854-4588-965c-749d0926c2ee",
   "metadata": {},
   "outputs": [
    {
     "data": {
      "text/latex": [
       "$\\displaystyle 16 x^{7} - 4 x^{6} + 48 x^{4} - 12 x^{3} + 36 x - 9$"
      ],
      "text/plain": [
       "16*x**7 - 4*x**6 + 48*x**4 - 12*x**3 + 36*x - 9"
      ]
     },
     "execution_count": 58,
     "metadata": {},
     "output_type": "execute_result"
    }
   ],
   "source": [
    "f.expand()"
   ]
  },
  {
   "cell_type": "markdown",
   "id": "04763ba2-7588-4ddc-835c-bcb285f92315",
   "metadata": {},
   "source": [
    "### Solving"
   ]
  },
  {
   "cell_type": "code",
   "execution_count": 68,
   "id": "ae67b535-70b2-4d8e-87f9-1d8ba4c9bce6",
   "metadata": {},
   "outputs": [
    {
     "data": {
      "text/latex": [
       "$\\displaystyle \\left(4 x - 1\\right) \\left(2 x^{3} + 3\\right)^{2}$"
      ],
      "text/plain": [
       "(4*x - 1)*(2*x**3 + 3)**2"
      ]
     },
     "execution_count": 68,
     "metadata": {},
     "output_type": "execute_result"
    }
   ],
   "source": [
    "f"
   ]
  },
  {
   "cell_type": "code",
   "execution_count": 74,
   "id": "eede8ef6-c649-42b1-8ffd-7f26eb5a4010",
   "metadata": {},
   "outputs": [
    {
     "data": {
      "text/latex": [
       "$\\displaystyle \\frac{1}{4}$"
      ],
      "text/plain": [
       "1/4"
      ]
     },
     "metadata": {},
     "output_type": "display_data"
    },
    {
     "data": {
      "text/latex": [
       "$\\displaystyle - \\frac{2^{\\frac{2}{3}} \\sqrt[3]{3}}{2}$"
      ],
      "text/plain": [
       "-2**(2/3)*3**(1/3)/2"
      ]
     },
     "metadata": {},
     "output_type": "display_data"
    },
    {
     "data": {
      "text/latex": [
       "$\\displaystyle \\frac{2^{\\frac{2}{3}} \\sqrt[3]{3}}{4} - \\frac{2^{\\frac{2}{3}} \\cdot 3^{\\frac{5}{6}} i}{4}$"
      ],
      "text/plain": [
       "2**(2/3)*3**(1/3)/4 - 2**(2/3)*3**(5/6)*I/4"
      ]
     },
     "metadata": {},
     "output_type": "display_data"
    },
    {
     "data": {
      "text/latex": [
       "$\\displaystyle \\frac{2^{\\frac{2}{3}} \\sqrt[3]{3}}{4} + \\frac{2^{\\frac{2}{3}} \\cdot 3^{\\frac{5}{6}} i}{4}$"
      ],
      "text/plain": [
       "2**(2/3)*3**(1/3)/4 + 2**(2/3)*3**(5/6)*I/4"
      ]
     },
     "metadata": {},
     "output_type": "display_data"
    }
   ],
   "source": [
    "for sol in smp.solve(f,x):\n",
    "    display(sol)"
   ]
  },
  {
   "cell_type": "code",
   "execution_count": 80,
   "id": "9747151d-c19e-409c-b0d0-267519fc706d",
   "metadata": {},
   "outputs": [
    {
     "data": {
      "text/plain": [
       "[3/2]"
      ]
     },
     "execution_count": 80,
     "metadata": {},
     "output_type": "execute_result"
    }
   ],
   "source": [
    "f = (4*x - 6)**2\n",
    "smp.solve(f, x)"
   ]
  },
  {
   "cell_type": "markdown",
   "id": "8d04f67f-46fb-416b-afae-9d51a50f50eb",
   "metadata": {},
   "source": [
    "### Lambdafy-ing functions\n",
    "This functions allows us to turn a SymPy function, into a usable function with inputs and outputs."
   ]
  },
  {
   "cell_type": "code",
   "execution_count": 89,
   "id": "cbcf9fed-6cde-44d4-a7bc-e301c093f032",
   "metadata": {},
   "outputs": [
    {
     "data": {
      "text/plain": [
       "0.1760326633821498"
      ]
     },
     "execution_count": 89,
     "metadata": {},
     "output_type": "execute_result"
    }
   ],
   "source": [
    "#nd(mu=4, sig=2, x=5) #throws an error, because it is not a usable function...\n",
    "\n",
    "nd_f = smp.lambdify([x,mu,sig], nd)\n",
    "nd_f(4,3,2)\n"
   ]
  },
  {
   "cell_type": "code",
   "execution_count": null,
   "id": "1ad70122-cf5d-47fc-b7d6-e5bbf926a06c",
   "metadata": {},
   "outputs": [],
   "source": []
  }
 ],
 "metadata": {
  "kernelspec": {
   "display_name": "Python 3 (ipykernel)",
   "language": "python",
   "name": "python3"
  },
  "language_info": {
   "codemirror_mode": {
    "name": "ipython",
    "version": 3
   },
   "file_extension": ".py",
   "mimetype": "text/x-python",
   "name": "python",
   "nbconvert_exporter": "python",
   "pygments_lexer": "ipython3",
   "version": "3.9.7"
  }
 },
 "nbformat": 4,
 "nbformat_minor": 5
}
